import ipywidgets as widgets
from IPython.display import display, clear_output

game_state = [' '] * 9
current_player = 'X'
game_over = False

buttons = [widgets.Button(description=' ', layout=widgets.Layout(width='50px', height='50px')) for _ in range(9)]


restart_button = widgets.Button(description='Restart', button_style='danger')


message_label = widgets.Label(value='', layout=widgets.Layout(margin='10px'))


def on_button_click(button, index):
    global current_player, game_state, game_over
    if not game_over and game_state[index] == ' ':
        game_state[index] = current_player
        button.description = current_player
        button.disabled = True
        button.button_style = 'warning' if current_player == 'X' else 'info'
        check_winner()
        current_player = 'X' if current_player == 'O' else 'O'


def check_winner():
    winning_combinations = [(0, 1, 2), (3, 4, 5), (6, 7, 8), (0, 3, 6), (1, 4, 7), (2, 5, 8), (0, 4, 8), (2, 4, 6)]
    for combo in winning_combinations:
        if game_state[combo[0]] == game_state[combo[1]] == game_state[combo[2]] != ' ':
            for index in combo:
                buttons[index].button_style = 'success'
            for button in buttons:
                button.disabled = True
            set_message(f'{current_player} wins!')
            game_over = True
            return
    if ' ' not in game_state:
        set_message("It's a draw!")
        game_over = True


def on_restart_button_click(_):
    global game_state, current_player, game_over
    game_state = [' '] * 9
    current_player = 'X'
    game_over = False
    for button in buttons:
        button.description = ' '
        button.disabled = False
        button.button_style = ''
    set_message('')


def set_message(message):
    message_label.value = message


for i, button in enumerate(buttons):
    button.on_click(lambda _, i=i: on_button_click(buttons[i], i))

restart_button.on_click(on_restart_button_click)


board = widgets.GridBox(buttons, layout=widgets.Layout(grid_template_columns='repeat(3, 50px)', justify_content='center'))


controls = widgets.VBox([restart_button, message_label])


display(widgets.HBox([board, controls]))
